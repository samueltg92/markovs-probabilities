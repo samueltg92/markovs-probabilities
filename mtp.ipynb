{
 "cells": [
  {
   "cell_type": "code",
   "execution_count": 2,
   "metadata": {},
   "outputs": [],
   "source": [
    "import yfinance as yf\n",
    "import pandas as pd\n",
    "import numpy as np"
   ]
  },
  {
   "cell_type": "code",
   "execution_count": 3,
   "metadata": {},
   "outputs": [
    {
     "name": "stdout",
     "output_type": "stream",
     "text": [
      "[*********************100%***********************]  1 of 1 completed\n"
     ]
    }
   ],
   "source": [
    "ticker = 'SPY'\n",
    "data = yf.download(ticker, start = '2000-01-01', end = '2023-09-13')"
   ]
  },
  {
   "cell_type": "code",
   "execution_count": 5,
   "metadata": {},
   "outputs": [],
   "source": [
    "data['Daily Ret'] = data['Adj Close'].pct_change()\n",
    "data['State'] = np.where(data['Daily Ret'] >= 0, 'up', 'down')"
   ]
  },
  {
   "cell_type": "code",
   "execution_count": 6,
   "metadata": {},
   "outputs": [
    {
     "data": {
      "text/html": [
       "<div>\n",
       "<style scoped>\n",
       "    .dataframe tbody tr th:only-of-type {\n",
       "        vertical-align: middle;\n",
       "    }\n",
       "\n",
       "    .dataframe tbody tr th {\n",
       "        vertical-align: top;\n",
       "    }\n",
       "\n",
       "    .dataframe thead th {\n",
       "        text-align: right;\n",
       "    }\n",
       "</style>\n",
       "<table border=\"1\" class=\"dataframe\">\n",
       "  <thead>\n",
       "    <tr style=\"text-align: right;\">\n",
       "      <th></th>\n",
       "      <th>Open</th>\n",
       "      <th>High</th>\n",
       "      <th>Low</th>\n",
       "      <th>Close</th>\n",
       "      <th>Adj Close</th>\n",
       "      <th>Volume</th>\n",
       "      <th>Daily Ret</th>\n",
       "      <th>State</th>\n",
       "    </tr>\n",
       "    <tr>\n",
       "      <th>Date</th>\n",
       "      <th></th>\n",
       "      <th></th>\n",
       "      <th></th>\n",
       "      <th></th>\n",
       "      <th></th>\n",
       "      <th></th>\n",
       "      <th></th>\n",
       "      <th></th>\n",
       "    </tr>\n",
       "  </thead>\n",
       "  <tbody>\n",
       "    <tr>\n",
       "      <th>2000-01-03</th>\n",
       "      <td>148.250000</td>\n",
       "      <td>148.250000</td>\n",
       "      <td>143.875000</td>\n",
       "      <td>145.437500</td>\n",
       "      <td>94.595055</td>\n",
       "      <td>8164300</td>\n",
       "      <td>NaN</td>\n",
       "      <td>down</td>\n",
       "    </tr>\n",
       "    <tr>\n",
       "      <th>2000-01-04</th>\n",
       "      <td>143.531250</td>\n",
       "      <td>144.062500</td>\n",
       "      <td>139.640625</td>\n",
       "      <td>139.750000</td>\n",
       "      <td>90.895798</td>\n",
       "      <td>8089800</td>\n",
       "      <td>-0.039106</td>\n",
       "      <td>down</td>\n",
       "    </tr>\n",
       "    <tr>\n",
       "      <th>2000-01-05</th>\n",
       "      <td>139.937500</td>\n",
       "      <td>141.531250</td>\n",
       "      <td>137.250000</td>\n",
       "      <td>140.000000</td>\n",
       "      <td>91.058418</td>\n",
       "      <td>12177900</td>\n",
       "      <td>0.001789</td>\n",
       "      <td>up</td>\n",
       "    </tr>\n",
       "    <tr>\n",
       "      <th>2000-01-06</th>\n",
       "      <td>139.625000</td>\n",
       "      <td>141.500000</td>\n",
       "      <td>137.750000</td>\n",
       "      <td>137.750000</td>\n",
       "      <td>89.594963</td>\n",
       "      <td>6227200</td>\n",
       "      <td>-0.016072</td>\n",
       "      <td>down</td>\n",
       "    </tr>\n",
       "    <tr>\n",
       "      <th>2000-01-07</th>\n",
       "      <td>140.312500</td>\n",
       "      <td>145.750000</td>\n",
       "      <td>140.062500</td>\n",
       "      <td>145.750000</td>\n",
       "      <td>94.798294</td>\n",
       "      <td>8066500</td>\n",
       "      <td>0.058076</td>\n",
       "      <td>up</td>\n",
       "    </tr>\n",
       "    <tr>\n",
       "      <th>...</th>\n",
       "      <td>...</td>\n",
       "      <td>...</td>\n",
       "      <td>...</td>\n",
       "      <td>...</td>\n",
       "      <td>...</td>\n",
       "      <td>...</td>\n",
       "      <td>...</td>\n",
       "      <td>...</td>\n",
       "    </tr>\n",
       "    <tr>\n",
       "      <th>2023-09-06</th>\n",
       "      <td>448.399994</td>\n",
       "      <td>448.510010</td>\n",
       "      <td>443.809998</td>\n",
       "      <td>446.220001</td>\n",
       "      <td>446.220001</td>\n",
       "      <td>70758500</td>\n",
       "      <td>-0.006722</td>\n",
       "      <td>down</td>\n",
       "    </tr>\n",
       "    <tr>\n",
       "      <th>2023-09-07</th>\n",
       "      <td>443.109985</td>\n",
       "      <td>445.549988</td>\n",
       "      <td>442.750000</td>\n",
       "      <td>444.850006</td>\n",
       "      <td>444.850006</td>\n",
       "      <td>70355400</td>\n",
       "      <td>-0.003070</td>\n",
       "      <td>down</td>\n",
       "    </tr>\n",
       "    <tr>\n",
       "      <th>2023-09-08</th>\n",
       "      <td>444.899994</td>\n",
       "      <td>447.109985</td>\n",
       "      <td>444.529999</td>\n",
       "      <td>445.519989</td>\n",
       "      <td>445.519989</td>\n",
       "      <td>61659700</td>\n",
       "      <td>0.001506</td>\n",
       "      <td>up</td>\n",
       "    </tr>\n",
       "    <tr>\n",
       "      <th>2023-09-11</th>\n",
       "      <td>448.239990</td>\n",
       "      <td>448.769989</td>\n",
       "      <td>446.470001</td>\n",
       "      <td>448.450012</td>\n",
       "      <td>448.450012</td>\n",
       "      <td>60180100</td>\n",
       "      <td>0.006577</td>\n",
       "      <td>up</td>\n",
       "    </tr>\n",
       "    <tr>\n",
       "      <th>2023-09-12</th>\n",
       "      <td>446.950012</td>\n",
       "      <td>448.529999</td>\n",
       "      <td>445.390015</td>\n",
       "      <td>445.989990</td>\n",
       "      <td>445.989990</td>\n",
       "      <td>67565400</td>\n",
       "      <td>-0.005486</td>\n",
       "      <td>down</td>\n",
       "    </tr>\n",
       "  </tbody>\n",
       "</table>\n",
       "<p>5961 rows × 8 columns</p>\n",
       "</div>"
      ],
      "text/plain": [
       "                  Open        High         Low       Close   Adj Close  \\\n",
       "Date                                                                     \n",
       "2000-01-03  148.250000  148.250000  143.875000  145.437500   94.595055   \n",
       "2000-01-04  143.531250  144.062500  139.640625  139.750000   90.895798   \n",
       "2000-01-05  139.937500  141.531250  137.250000  140.000000   91.058418   \n",
       "2000-01-06  139.625000  141.500000  137.750000  137.750000   89.594963   \n",
       "2000-01-07  140.312500  145.750000  140.062500  145.750000   94.798294   \n",
       "...                ...         ...         ...         ...         ...   \n",
       "2023-09-06  448.399994  448.510010  443.809998  446.220001  446.220001   \n",
       "2023-09-07  443.109985  445.549988  442.750000  444.850006  444.850006   \n",
       "2023-09-08  444.899994  447.109985  444.529999  445.519989  445.519989   \n",
       "2023-09-11  448.239990  448.769989  446.470001  448.450012  448.450012   \n",
       "2023-09-12  446.950012  448.529999  445.390015  445.989990  445.989990   \n",
       "\n",
       "              Volume  Daily Ret State  \n",
       "Date                                   \n",
       "2000-01-03   8164300        NaN  down  \n",
       "2000-01-04   8089800  -0.039106  down  \n",
       "2000-01-05  12177900   0.001789    up  \n",
       "2000-01-06   6227200  -0.016072  down  \n",
       "2000-01-07   8066500   0.058076    up  \n",
       "...              ...        ...   ...  \n",
       "2023-09-06  70758500  -0.006722  down  \n",
       "2023-09-07  70355400  -0.003070  down  \n",
       "2023-09-08  61659700   0.001506    up  \n",
       "2023-09-11  60180100   0.006577    up  \n",
       "2023-09-12  67565400  -0.005486  down  \n",
       "\n",
       "[5961 rows x 8 columns]"
      ]
     },
     "execution_count": 6,
     "metadata": {},
     "output_type": "execute_result"
    }
   ],
   "source": [
    "data"
   ]
  },
  {
   "cell_type": "code",
   "execution_count": 29,
   "metadata": {},
   "outputs": [
    {
     "name": "stdout",
     "output_type": "stream",
     "text": [
      "up to up: 0.533394890735611\n",
      "up to down: 0.5589970501474927\n",
      "down to up: 0.46660510926438903\n",
      "down to down: 0.44063421828908556\n"
     ]
    }
   ],
   "source": [
    "up_len = len(data[data['State'] == 'up'])\n",
    "down_len = len(data[data['State'] == 'down'])\n",
    "\n",
    "up = data['State'] == 'up'\n",
    "down = data['State'] == 'down'\n",
    "\n",
    "up_to_up = len(data[(data['State'] == 'up') & (data['State'].shift(-1) == 'up')]) / len(data.query('State == \"up\"'))\n",
    "up_to_down = len(data[(data['State'] == 'down') & (data['State'].shift(-1) == 'up')]) / len(data.query('State == \"down\"')) # up day followed by an down day\n",
    "down_to_down = len(data[(data['State'] == 'down') & (data['State'].shift(-1) == 'down')]) / len(data.query('State == \"down\"'))\n",
    "down_to_up = len(data[(data['State'] == 'up') & (data['State'].shift(-1) == 'down')]) / len(data.query('State == \"up\"')) # down day followed by an up day\n",
    "\n",
    "print(f'up to up: {up_to_up}')\n",
    "print(f'up to down: {up_to_down}')\n",
    "print(f'down to up: {down_to_up}')\n",
    "print(f'down to down: {down_to_down}')"
   ]
  },
  {
   "cell_type": "code",
   "execution_count": 30,
   "metadata": {},
   "outputs": [
    {
     "name": "stdout",
     "output_type": "stream",
     "text": [
      "            up      down\n",
      "up    0.533395  0.558997\n",
      "down  0.466605  0.440634\n"
     ]
    }
   ],
   "source": [
    "trans_matrix = pd.DataFrame({'up': [up_to_up, down_to_up], 'down': [up_to_down, down_to_down]}, index = ['up', 'down'])\n",
    "print(trans_matrix)"
   ]
  },
  {
   "cell_type": "code",
   "execution_count": 35,
   "metadata": {},
   "outputs": [
    {
     "name": "stdout",
     "output_type": "stream",
     "text": [
      "Probability of and up day followed by 5 consecutive down days: 0.68\n"
     ]
    }
   ],
   "source": [
    "prob_up2down = len(data[(up) & (down.shift(-1)) & (down.shift(-2)) & (down.shift(-3)) & (down.shift(-4)) & (down.shift(-5))]) / len(data[(down.shift(1)) & (down.shift(2)) & (down.shift(3)) & (down.shift(4)) & (down.shift(5))])\n",
    "print(f'Probability of and up day followed by 5 consecutive down days: {prob_up2down}')"
   ]
  },
  {
   "cell_type": "code",
   "execution_count": null,
   "metadata": {},
   "outputs": [],
   "source": []
  }
 ],
 "metadata": {
  "kernelspec": {
   "display_name": "TRADING",
   "language": "python",
   "name": "python3"
  },
  "language_info": {
   "codemirror_mode": {
    "name": "ipython",
    "version": 3
   },
   "file_extension": ".py",
   "mimetype": "text/x-python",
   "name": "python",
   "nbconvert_exporter": "python",
   "pygments_lexer": "ipython3",
   "version": "3.9.7"
  },
  "orig_nbformat": 4
 },
 "nbformat": 4,
 "nbformat_minor": 2
}
